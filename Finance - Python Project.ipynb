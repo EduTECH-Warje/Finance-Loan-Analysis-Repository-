{
 "cells": [
  {
   "cell_type": "markdown",
   "id": "de8642aa",
   "metadata": {},
   "source": [
    "<div style=\"background-color: #E3F2FD; padding: 20px; border-radius: 10px; text-align: center;\">\n",
    "    <h1 style=\"color: #1A237E;\">💸 Financial Insights: Comprehensive Analysis of Loan Data 📊</h1>\n",
    "</div>\n",
    "\n"
   ]
  },
  {
   "cell_type": "code",
   "execution_count": 2,
   "id": "bf3a4d3a",
   "metadata": {},
   "outputs": [],
   "source": [
    "import pandas as pd\n",
    "import numpy as np\n",
    "import seaborn as sns\n",
    "import matplotlib.pyplot as plt"
   ]
  },
  {
   "cell_type": "code",
   "execution_count": 3,
   "id": "fe82eb35",
   "metadata": {},
   "outputs": [
    {
     "data": {
      "text/html": [
       "<div>\n",
       "<style scoped>\n",
       "    .dataframe tbody tr th:only-of-type {\n",
       "        vertical-align: middle;\n",
       "    }\n",
       "\n",
       "    .dataframe tbody tr th {\n",
       "        vertical-align: top;\n",
       "    }\n",
       "\n",
       "    .dataframe thead th {\n",
       "        text-align: right;\n",
       "    }\n",
       "</style>\n",
       "<table border=\"1\" class=\"dataframe\">\n",
       "  <thead>\n",
       "    <tr style=\"text-align: right;\">\n",
       "      <th></th>\n",
       "      <th>id</th>\n",
       "      <th>address_state</th>\n",
       "      <th>application_type</th>\n",
       "      <th>emp_length</th>\n",
       "      <th>emp_title</th>\n",
       "      <th>grade</th>\n",
       "      <th>home_ownership</th>\n",
       "      <th>issue_date</th>\n",
       "      <th>last_credit_pull_date</th>\n",
       "      <th>last_payment_date</th>\n",
       "      <th>...</th>\n",
       "      <th>sub_grade</th>\n",
       "      <th>term</th>\n",
       "      <th>verification_status</th>\n",
       "      <th>annual_income</th>\n",
       "      <th>dti</th>\n",
       "      <th>installment</th>\n",
       "      <th>int_rate</th>\n",
       "      <th>loan_amount</th>\n",
       "      <th>total_acc</th>\n",
       "      <th>total_payment</th>\n",
       "    </tr>\n",
       "  </thead>\n",
       "  <tbody>\n",
       "    <tr>\n",
       "      <th>0</th>\n",
       "      <td>1077430</td>\n",
       "      <td>GA</td>\n",
       "      <td>INDIVIDUAL</td>\n",
       "      <td>&lt; 1 year</td>\n",
       "      <td>Ryder</td>\n",
       "      <td>C</td>\n",
       "      <td>RENT</td>\n",
       "      <td>11-02-2021</td>\n",
       "      <td>13-09-2021</td>\n",
       "      <td>13-04-2021</td>\n",
       "      <td>...</td>\n",
       "      <td>C4</td>\n",
       "      <td>60 months</td>\n",
       "      <td>Source Verified</td>\n",
       "      <td>30000.0</td>\n",
       "      <td>0.0100</td>\n",
       "      <td>59.83</td>\n",
       "      <td>0.1527</td>\n",
       "      <td>2500</td>\n",
       "      <td>4</td>\n",
       "      <td>1009</td>\n",
       "    </tr>\n",
       "    <tr>\n",
       "      <th>1</th>\n",
       "      <td>1072053</td>\n",
       "      <td>CA</td>\n",
       "      <td>INDIVIDUAL</td>\n",
       "      <td>9 years</td>\n",
       "      <td>MKC Accounting</td>\n",
       "      <td>E</td>\n",
       "      <td>RENT</td>\n",
       "      <td>01-01-2021</td>\n",
       "      <td>14-12-2021</td>\n",
       "      <td>15-01-2021</td>\n",
       "      <td>...</td>\n",
       "      <td>E1</td>\n",
       "      <td>36 months</td>\n",
       "      <td>Source Verified</td>\n",
       "      <td>48000.0</td>\n",
       "      <td>0.0535</td>\n",
       "      <td>109.43</td>\n",
       "      <td>0.1864</td>\n",
       "      <td>3000</td>\n",
       "      <td>4</td>\n",
       "      <td>3939</td>\n",
       "    </tr>\n",
       "    <tr>\n",
       "      <th>2</th>\n",
       "      <td>1069243</td>\n",
       "      <td>CA</td>\n",
       "      <td>INDIVIDUAL</td>\n",
       "      <td>4 years</td>\n",
       "      <td>Chemat Technology Inc</td>\n",
       "      <td>C</td>\n",
       "      <td>RENT</td>\n",
       "      <td>05-01-2021</td>\n",
       "      <td>12-12-2021</td>\n",
       "      <td>09-01-2021</td>\n",
       "      <td>...</td>\n",
       "      <td>C5</td>\n",
       "      <td>36 months</td>\n",
       "      <td>Not Verified</td>\n",
       "      <td>50000.0</td>\n",
       "      <td>0.2088</td>\n",
       "      <td>421.65</td>\n",
       "      <td>0.1596</td>\n",
       "      <td>12000</td>\n",
       "      <td>11</td>\n",
       "      <td>3522</td>\n",
       "    </tr>\n",
       "    <tr>\n",
       "      <th>3</th>\n",
       "      <td>1041756</td>\n",
       "      <td>TX</td>\n",
       "      <td>INDIVIDUAL</td>\n",
       "      <td>&lt; 1 year</td>\n",
       "      <td>barnes distribution</td>\n",
       "      <td>B</td>\n",
       "      <td>MORTGAGE</td>\n",
       "      <td>25-02-2021</td>\n",
       "      <td>12-12-2021</td>\n",
       "      <td>12-03-2021</td>\n",
       "      <td>...</td>\n",
       "      <td>B2</td>\n",
       "      <td>60 months</td>\n",
       "      <td>Source Verified</td>\n",
       "      <td>42000.0</td>\n",
       "      <td>0.0540</td>\n",
       "      <td>97.06</td>\n",
       "      <td>0.1065</td>\n",
       "      <td>4500</td>\n",
       "      <td>9</td>\n",
       "      <td>4911</td>\n",
       "    </tr>\n",
       "    <tr>\n",
       "      <th>4</th>\n",
       "      <td>1068350</td>\n",
       "      <td>IL</td>\n",
       "      <td>INDIVIDUAL</td>\n",
       "      <td>10+ years</td>\n",
       "      <td>J&amp;J Steel Inc</td>\n",
       "      <td>A</td>\n",
       "      <td>MORTGAGE</td>\n",
       "      <td>01-01-2021</td>\n",
       "      <td>14-12-2021</td>\n",
       "      <td>15-01-2021</td>\n",
       "      <td>...</td>\n",
       "      <td>A1</td>\n",
       "      <td>36 months</td>\n",
       "      <td>Verified</td>\n",
       "      <td>83000.0</td>\n",
       "      <td>0.0231</td>\n",
       "      <td>106.53</td>\n",
       "      <td>0.0603</td>\n",
       "      <td>3500</td>\n",
       "      <td>28</td>\n",
       "      <td>3835</td>\n",
       "    </tr>\n",
       "  </tbody>\n",
       "</table>\n",
       "<p>5 rows × 24 columns</p>\n",
       "</div>"
      ],
      "text/plain": [
       "        id address_state application_type emp_length              emp_title  \\\n",
       "0  1077430            GA       INDIVIDUAL   < 1 year                  Ryder   \n",
       "1  1072053            CA       INDIVIDUAL    9 years         MKC Accounting   \n",
       "2  1069243            CA       INDIVIDUAL    4 years  Chemat Technology Inc   \n",
       "3  1041756            TX       INDIVIDUAL   < 1 year    barnes distribution   \n",
       "4  1068350            IL       INDIVIDUAL  10+ years          J&J Steel Inc   \n",
       "\n",
       "  grade home_ownership  issue_date last_credit_pull_date last_payment_date  \\\n",
       "0     C           RENT  11-02-2021            13-09-2021        13-04-2021   \n",
       "1     E           RENT  01-01-2021            14-12-2021        15-01-2021   \n",
       "2     C           RENT  05-01-2021            12-12-2021        09-01-2021   \n",
       "3     B       MORTGAGE  25-02-2021            12-12-2021        12-03-2021   \n",
       "4     A       MORTGAGE  01-01-2021            14-12-2021        15-01-2021   \n",
       "\n",
       "   ... sub_grade        term  verification_status annual_income     dti  \\\n",
       "0  ...        C4   60 months      Source Verified       30000.0  0.0100   \n",
       "1  ...        E1   36 months      Source Verified       48000.0  0.0535   \n",
       "2  ...        C5   36 months         Not Verified       50000.0  0.2088   \n",
       "3  ...        B2   60 months      Source Verified       42000.0  0.0540   \n",
       "4  ...        A1   36 months             Verified       83000.0  0.0231   \n",
       "\n",
       "  installment int_rate  loan_amount  total_acc  total_payment  \n",
       "0       59.83   0.1527         2500          4           1009  \n",
       "1      109.43   0.1864         3000          4           3939  \n",
       "2      421.65   0.1596        12000         11           3522  \n",
       "3       97.06   0.1065         4500          9           4911  \n",
       "4      106.53   0.0603         3500         28           3835  \n",
       "\n",
       "[5 rows x 24 columns]"
      ]
     },
     "execution_count": 3,
     "metadata": {},
     "output_type": "execute_result"
    }
   ],
   "source": [
    "df = pd.read_csv(\"C:/Users/pooja pawar/EDUTECH  - DATA  ANALYST COURSE/DATASET FOR PYTHON PROJECT/FINANCE/Bank Financial Loan Analysis/financial_loan.csv\")\n",
    "df.head(5)"
   ]
  },
  {
   "cell_type": "markdown",
   "id": "3093d3d9",
   "metadata": {},
   "source": [
    " "
   ]
  },
  {
   "cell_type": "markdown",
   "id": "fbebf21a",
   "metadata": {},
   "source": [
    "<div style=\"background-color: #E3F2FD; padding: 20px; border-radius: 10px;\">\n",
    "    <h1 style=\"color: #004D40; text-align: left; font-size: 1.5em;\">Data overview</h1>\n",
    "</div>"
   ]
  },
  {
   "cell_type": "code",
   "execution_count": 4,
   "id": "93726450",
   "metadata": {},
   "outputs": [
    {
     "name": "stdout",
     "output_type": "stream",
     "text": [
      "<class 'pandas.core.frame.DataFrame'>\n",
      "RangeIndex: 38576 entries, 0 to 38575\n",
      "Data columns (total 24 columns):\n",
      " #   Column                 Non-Null Count  Dtype  \n",
      "---  ------                 --------------  -----  \n",
      " 0   id                     38576 non-null  int64  \n",
      " 1   address_state          38576 non-null  object \n",
      " 2   application_type       38576 non-null  object \n",
      " 3   emp_length             38576 non-null  object \n",
      " 4   emp_title              37138 non-null  object \n",
      " 5   grade                  38576 non-null  object \n",
      " 6   home_ownership         38576 non-null  object \n",
      " 7   issue_date             38576 non-null  object \n",
      " 8   last_credit_pull_date  38576 non-null  object \n",
      " 9   last_payment_date      38576 non-null  object \n",
      " 10  loan_status            38576 non-null  object \n",
      " 11  next_payment_date      38576 non-null  object \n",
      " 12  member_id              38576 non-null  int64  \n",
      " 13  purpose                38576 non-null  object \n",
      " 14  sub_grade              38576 non-null  object \n",
      " 15  term                   38576 non-null  object \n",
      " 16  verification_status    38576 non-null  object \n",
      " 17  annual_income          38576 non-null  float64\n",
      " 18  dti                    38576 non-null  float64\n",
      " 19  installment            38576 non-null  float64\n",
      " 20  int_rate               38576 non-null  float64\n",
      " 21  loan_amount            38576 non-null  int64  \n",
      " 22  total_acc              38576 non-null  int64  \n",
      " 23  total_payment          38576 non-null  int64  \n",
      "dtypes: float64(4), int64(5), object(15)\n",
      "memory usage: 7.1+ MB\n"
     ]
    }
   ],
   "source": [
    "df.info()"
   ]
  },
  {
   "cell_type": "code",
   "execution_count": 5,
   "id": "6cf79854",
   "metadata": {},
   "outputs": [
    {
     "name": "stdout",
     "output_type": "stream",
     "text": [
      "id = 0 \n",
      "address_state = 0 \n",
      "application_type = 0 \n",
      "emp_length = 0 \n",
      "emp_title = 1438 \n",
      "grade = 0 \n",
      "home_ownership = 0 \n",
      "issue_date = 0 \n",
      "last_credit_pull_date = 0 \n",
      "last_payment_date = 0 \n",
      "loan_status = 0 \n",
      "next_payment_date = 0 \n",
      "member_id = 0 \n",
      "purpose = 0 \n",
      "sub_grade = 0 \n",
      "term = 0 \n",
      "verification_status = 0 \n",
      "annual_income = 0 \n",
      "dti = 0 \n",
      "installment = 0 \n",
      "int_rate = 0 \n",
      "loan_amount = 0 \n",
      "total_acc = 0 \n",
      "total_payment = 0 \n"
     ]
    }
   ],
   "source": [
    "for column in df.columns:\n",
    "    null_count = df[column].isnull().sum()\n",
    "    print(f'{column} = {null_count} ')"
   ]
  },
  {
   "cell_type": "markdown",
   "id": "fce051cc",
   "metadata": {},
   "source": [
    " "
   ]
  },
  {
   "cell_type": "markdown",
   "id": "8af72dc7",
   "metadata": {},
   "source": [
    "<div style=\"background-color: #E3F2FD; padding: 20px; border-radius: 10px;\">\n",
    "    <h1 style=\"color: #004D40; text-align: left; font-size: 1.5em;\">Exploratory data analysis - KPI</h1>\n",
    "</div>"
   ]
  },
  {
   "cell_type": "markdown",
   "id": "fe25bed7",
   "metadata": {},
   "source": [
    "### Total Loan Applications"
   ]
  },
  {
   "cell_type": "code",
   "execution_count": 6,
   "id": "e79b8567",
   "metadata": {},
   "outputs": [
    {
     "data": {
      "text/plain": [
       "38576"
      ]
     },
     "execution_count": 6,
     "metadata": {},
     "output_type": "execute_result"
    }
   ],
   "source": [
    "df['id'].nunique()"
   ]
  },
  {
   "cell_type": "markdown",
   "id": "c0f79931",
   "metadata": {},
   "source": [
    "### Total Funded Amount"
   ]
  },
  {
   "cell_type": "code",
   "execution_count": 7,
   "id": "92e34eec",
   "metadata": {},
   "outputs": [
    {
     "data": {
      "text/plain": [
       "435757075"
      ]
     },
     "execution_count": 7,
     "metadata": {},
     "output_type": "execute_result"
    }
   ],
   "source": [
    "df['loan_amount'].sum()"
   ]
  },
  {
   "cell_type": "markdown",
   "id": "9ef397af",
   "metadata": {},
   "source": [
    "### Total Amount Received"
   ]
  },
  {
   "cell_type": "code",
   "execution_count": 8,
   "id": "5048c424",
   "metadata": {},
   "outputs": [
    {
     "data": {
      "text/plain": [
       "473070933"
      ]
     },
     "execution_count": 8,
     "metadata": {},
     "output_type": "execute_result"
    }
   ],
   "source": [
    "df['total_payment'].sum()"
   ]
  },
  {
   "cell_type": "markdown",
   "id": "aa557269",
   "metadata": {},
   "source": [
    "### Average Interest Rates"
   ]
  },
  {
   "cell_type": "code",
   "execution_count": 9,
   "id": "a72c9c49",
   "metadata": {},
   "outputs": [
    {
     "data": {
      "text/plain": [
       "12.048831397760265"
      ]
     },
     "execution_count": 9,
     "metadata": {},
     "output_type": "execute_result"
    }
   ],
   "source": [
    "df['int_rate'].mean()*100"
   ]
  },
  {
   "cell_type": "markdown",
   "id": "421edb92",
   "metadata": {},
   "source": [
    "### Average Debt to income Ratio"
   ]
  },
  {
   "cell_type": "code",
   "execution_count": 10,
   "id": "a6ada3d3",
   "metadata": {},
   "outputs": [
    {
     "data": {
      "text/plain": [
       "13.327433119037742"
      ]
     },
     "execution_count": 10,
     "metadata": {},
     "output_type": "execute_result"
    }
   ],
   "source": [
    "df['dti'].mean()*100"
   ]
  },
  {
   "cell_type": "markdown",
   "id": "27bdcd20",
   "metadata": {},
   "source": [
    " "
   ]
  },
  {
   "cell_type": "markdown",
   "id": "b3b7e44d",
   "metadata": {},
   "source": [
    "## Good Loan VS Bad Loan KPI'S"
   ]
  },
  {
   "cell_type": "markdown",
   "id": "9f4633d9",
   "metadata": {},
   "source": [
    "### Good Loan VS Bad Loan %"
   ]
  },
  {
   "cell_type": "code",
   "execution_count": 11,
   "id": "b1d9a2f9",
   "metadata": {},
   "outputs": [
    {
     "data": {
      "text/plain": [
       "array(['Charged Off', 'Fully Paid', 'Current'], dtype=object)"
      ]
     },
     "execution_count": 11,
     "metadata": {},
     "output_type": "execute_result"
    }
   ],
   "source": [
    "df['loan_status'].unique()"
   ]
  },
  {
   "cell_type": "code",
   "execution_count": 12,
   "id": "00022191",
   "metadata": {},
   "outputs": [
    {
     "data": {
      "text/plain": [
       "38576"
      ]
     },
     "execution_count": 12,
     "metadata": {},
     "output_type": "execute_result"
    }
   ],
   "source": [
    "df['loan_status'].count()"
   ]
  },
  {
   "cell_type": "code",
   "execution_count": 13,
   "id": "93a51c53",
   "metadata": {},
   "outputs": [
    {
     "data": {
      "text/plain": [
       "Fully Paid     32145\n",
       "Charged Off     5333\n",
       "Current         1098\n",
       "Name: loan_status, dtype: int64"
      ]
     },
     "execution_count": 13,
     "metadata": {},
     "output_type": "execute_result"
    }
   ],
   "source": [
    "df['loan_status'].value_counts().sort_values(ascending=False)"
   ]
  },
  {
   "cell_type": "code",
   "execution_count": 14,
   "id": "9893e3f6",
   "metadata": {},
   "outputs": [
    {
     "data": {
      "text/plain": [
       "Fully Paid     83.329013\n",
       "Charged Off    13.824658\n",
       "Current         2.846329\n",
       "Name: loan_status, dtype: float64"
      ]
     },
     "execution_count": 14,
     "metadata": {},
     "output_type": "execute_result"
    }
   ],
   "source": [
    "x = df[\"loan_status\"].value_counts()\n",
    "y = df[\"loan_status\"].value_counts().sum()\n",
    "\n",
    "z = (x/y)*100\n",
    "z"
   ]
  },
  {
   "cell_type": "code",
   "execution_count": 15,
   "id": "3b40c520",
   "metadata": {},
   "outputs": [
    {
     "data": {
      "text/plain": [
       "86.175342"
      ]
     },
     "execution_count": 15,
     "metadata": {},
     "output_type": "execute_result"
    }
   ],
   "source": [
    "Good_Loan = 83.329013 +  2.846329\n",
    "Good_Loan"
   ]
  },
  {
   "cell_type": "code",
   "execution_count": 16,
   "id": "4cf08bd4",
   "metadata": {},
   "outputs": [
    {
     "data": {
      "text/plain": [
       "13.824658"
      ]
     },
     "execution_count": 16,
     "metadata": {},
     "output_type": "execute_result"
    }
   ],
   "source": [
    "Bad_Loan =  13.824658\n",
    "Bad_Loan"
   ]
  },
  {
   "cell_type": "markdown",
   "id": "ed182bf6",
   "metadata": {},
   "source": [
    " "
   ]
  },
  {
   "cell_type": "markdown",
   "id": "1b735993",
   "metadata": {},
   "source": [
    "### Good Loan Funded Amount VS Bad Loan Funded Amount"
   ]
  },
  {
   "cell_type": "code",
   "execution_count": 17,
   "id": "a7d049a9",
   "metadata": {},
   "outputs": [
    {
     "name": "stdout",
     "output_type": "stream",
     "text": [
      "Total Loan Amount for Good Loans: 370224850\n",
      "Total Loan Amount for Bad Loans: 65532225\n"
     ]
    }
   ],
   "source": [
    "# Define good and bad loan categories\n",
    "good_loan_status = [\"Fully Paid\", \"Current\"]\n",
    "bad_loan_status = [\"Charged Off\"]\n",
    "\n",
    "# Calculate the total loan amount for good loans\n",
    "good_loan_amount = df[df['loan_status'].isin(good_loan_status)]['loan_amount'].sum()\n",
    "\n",
    "# Calculate the total loan amount for bad loans\n",
    "bad_loan_amount = df[df['loan_status'].isin(bad_loan_status)]['loan_amount'].sum()\n",
    "\n",
    "print(\"Total Loan Amount for Good Loans:\", good_loan_amount)\n",
    "print(\"Total Loan Amount for Bad Loans:\", bad_loan_amount)\n"
   ]
  },
  {
   "cell_type": "markdown",
   "id": "296bb4d2",
   "metadata": {},
   "source": [
    "### Good Loan Received Amount VS Bad Loan Received Amount"
   ]
  },
  {
   "cell_type": "code",
   "execution_count": 18,
   "id": "e43e61a7",
   "metadata": {},
   "outputs": [
    {
     "name": "stdout",
     "output_type": "stream",
     "text": [
      "Total Payment for Good Loans: 435786170\n",
      "Total Payment for Bad Loans: 37284763\n"
     ]
    }
   ],
   "source": [
    "# Define good and bad loan categories\n",
    "good_loan_status = [\"Fully Paid\", \"Current\"]\n",
    "bad_loan_status = [\"Charged Off\"]\n",
    "\n",
    "# Calculate the total payment for good loans\n",
    "good_loan_payment = df[df['loan_status'].isin(good_loan_status)]['total_payment'].sum()\n",
    "\n",
    "# Calculate the total payment for bad loans\n",
    "bad_loan_payment = df[df['loan_status'].isin(bad_loan_status)]['total_payment'].sum()\n",
    "\n",
    "print(\"Total Payment for Good Loans:\", good_loan_payment)\n",
    "print(\"Total Payment for Bad Loans:\", bad_loan_payment)\n"
   ]
  },
  {
   "cell_type": "markdown",
   "id": "cadb347c",
   "metadata": {},
   "source": [
    "### Good Loan Avg.Interest Rate VS Bad Loan Avg.Interest Rate"
   ]
  },
  {
   "cell_type": "code",
   "execution_count": 19,
   "id": "06b1657a",
   "metadata": {},
   "outputs": [
    {
     "name": "stdout",
     "output_type": "stream",
     "text": [
      "Average Interest Rate for Good Loans: 11.755295250127846\n",
      "Average Interest Rate for Bad Loans: 13.878574910931931\n"
     ]
    }
   ],
   "source": [
    "# Define good and bad loan categories\n",
    "good_loan_status = [\"Fully Paid\", \"Current\"]\n",
    "bad_loan_status = [\"Charged Off\"]\n",
    "\n",
    "# Calculate the average interest rate for good loans\n",
    "good_loan_avg_int_rate = df[df['loan_status'].isin(good_loan_status)]['int_rate'].mean()\n",
    "\n",
    "# Calculate the average interest rate for bad loans\n",
    "bad_loan_avg_int_rate = df[df['loan_status'].isin(bad_loan_status)]['int_rate'].mean()\n",
    "\n",
    "print(\"Average Interest Rate for Good Loans:\", good_loan_avg_int_rate*100)\n",
    "print(\"Average Interest Rate for Bad Loans:\", bad_loan_avg_int_rate*100)\n"
   ]
  },
  {
   "cell_type": "markdown",
   "id": "93973480",
   "metadata": {},
   "source": [
    "### Good Loan Avg. Debt to income Ratio VS Bad Loan Avg.Debt to income Ratio"
   ]
  },
  {
   "cell_type": "code",
   "execution_count": 20,
   "id": "9b3fa7eb",
   "metadata": {},
   "outputs": [
    {
     "name": "stdout",
     "output_type": "stream",
     "text": [
      "Average DTI for Good Loans: 13.218777486989744\n",
      "Average DTI for Bad Loans: 14.004732795799738\n"
     ]
    }
   ],
   "source": [
    "# Define good and bad loan categories\n",
    "good_loan_status = [\"Fully Paid\", \"Current\"]\n",
    "bad_loan_status = [\"Charged Off\"]\n",
    "\n",
    "# Calculate the average DTI for good loans\n",
    "good_loan_avg_dti = df[df['loan_status'].isin(good_loan_status)]['dti'].mean()\n",
    "\n",
    "# Calculate the average DTI for bad loans\n",
    "bad_loan_avg_dti = df[df['loan_status'].isin(bad_loan_status)]['dti'].mean()\n",
    "\n",
    "print(\"Average DTI for Good Loans:\", good_loan_avg_dti*100)\n",
    "print(\"Average DTI for Bad Loans:\", bad_loan_avg_dti*100)\n"
   ]
  },
  {
   "cell_type": "markdown",
   "id": "47ab84f2",
   "metadata": {},
   "source": [
    " "
   ]
  },
  {
   "cell_type": "markdown",
   "id": "a08b0442",
   "metadata": {},
   "source": [
    "## Monthly Trend Analysis"
   ]
  },
  {
   "cell_type": "markdown",
   "id": "180f0b42",
   "metadata": {},
   "source": [
    "### Total Applications By Month"
   ]
  },
  {
   "cell_type": "code",
   "execution_count": 21,
   "id": "72f05214",
   "metadata": {},
   "outputs": [
    {
     "data": {
      "text/plain": [
       "38576"
      ]
     },
     "execution_count": 21,
     "metadata": {},
     "output_type": "execute_result"
    }
   ],
   "source": [
    "df['issue_date'].count()"
   ]
  },
  {
   "cell_type": "code",
   "execution_count": 22,
   "id": "58d20030",
   "metadata": {},
   "outputs": [
    {
     "name": "stdout",
     "output_type": "stream",
     "text": [
      "object\n"
     ]
    }
   ],
   "source": [
    "print(df['issue_date'].dtype)"
   ]
  },
  {
   "cell_type": "code",
   "execution_count": 24,
   "id": "7c9ac552",
   "metadata": {},
   "outputs": [
    {
     "name": "stderr",
     "output_type": "stream",
     "text": [
      "C:\\Users\\pooja pawar\\Desktop\\aniket\\Data Analyst\\Python_Files\\lib\\site-packages\\pandas\\core\\tools\\datetimes.py:1047: UserWarning: Parsing '25-02-2021' in DD/MM/YYYY format. Provide format or specify infer_datetime_format=True for consistent parsing.\n",
      "  cache_array = _maybe_cache(arg, format, cache, convert_listlike)\n",
      "C:\\Users\\pooja pawar\\Desktop\\aniket\\Data Analyst\\Python_Files\\lib\\site-packages\\pandas\\core\\tools\\datetimes.py:1047: UserWarning: Parsing '17-07-2021' in DD/MM/YYYY format. Provide format or specify infer_datetime_format=True for consistent parsing.\n",
      "  cache_array = _maybe_cache(arg, format, cache, convert_listlike)\n",
      "C:\\Users\\pooja pawar\\Desktop\\aniket\\Data Analyst\\Python_Files\\lib\\site-packages\\pandas\\core\\tools\\datetimes.py:1047: UserWarning: Parsing '19-11-2021' in DD/MM/YYYY format. Provide format or specify infer_datetime_format=True for consistent parsing.\n",
      "  cache_array = _maybe_cache(arg, format, cache, convert_listlike)\n",
      "C:\\Users\\pooja pawar\\Desktop\\aniket\\Data Analyst\\Python_Files\\lib\\site-packages\\pandas\\core\\tools\\datetimes.py:1047: UserWarning: Parsing '22-07-2021' in DD/MM/YYYY format. Provide format or specify infer_datetime_format=True for consistent parsing.\n",
      "  cache_array = _maybe_cache(arg, format, cache, convert_listlike)\n"
     ]
    },
    {
     "name": "stdout",
     "output_type": "stream",
     "text": [
      "       month  id_count\n",
      "3    January         2\n",
      "2   February         4\n",
      "5        May         1\n",
      "4       July       253\n",
      "0     August      1561\n",
      "8  September      4706\n",
      "7    October     11197\n",
      "6   November     20851\n",
      "1   December         1\n"
     ]
    }
   ],
   "source": [
    "df['issue_date'] = pd.to_datetime(df['issue_date'])\n",
    "\n",
    "# Extract month from the issue_date and create a new column for month names\n",
    "df['month'] = df['issue_date'].dt.strftime('%B')  # Get full month name\n",
    "\n",
    "# Group by month names and count the number of IDs\n",
    "monthly_id_count = df.groupby('month')['id'].count().reset_index()\n",
    "\n",
    "# Optional: Rename columns for better understanding\n",
    "monthly_id_count.columns = ['month', 'id_count']\n",
    "\n",
    "# Sort the months to ensure they are in order\n",
    "monthly_id_count['month'] = pd.Categorical(monthly_id_count['month'], \n",
    "                                            categories=['January', 'February', 'March', 'April', 'May', 'June', \n",
    "                                                        'July', 'August', 'September', 'October', 'November', 'December'], \n",
    "                                            ordered=True)\n",
    "\n",
    "monthly_id_count = monthly_id_count.sort_values('month')\n",
    "\n",
    "# Display the result\n",
    "print(monthly_id_count)\n"
   ]
  },
  {
   "cell_type": "code",
   "execution_count": 25,
   "id": "1d79bd06",
   "metadata": {},
   "outputs": [
    {
     "data": {
      "image/png": "[encoded data removed]",
      "text/plain": [
       "<Figure size 800x400 with 1 Axes>"
      ]
     },
     "metadata": {},
     "output_type": "display_data"
    }
   ],
   "source": [
    "\n",
    "# Create a complete list of months\n",
    "months = ['January', 'February', 'March', 'April', 'May', 'June', \n",
    "          'July', 'August', 'September', 'October', 'November', 'December']\n",
    "\n",
    "# Extract month names from the issue_date and create a new column\n",
    "df['month'] = df['issue_date'].dt.strftime('%B')\n",
    "\n",
    "# Group by month names and count the number of IDs\n",
    "monthly_id_count = df.groupby('month')['id'].count().reindex(months, fill_value=0).reset_index()\n",
    "\n",
    "# Rename columns for better understanding\n",
    "monthly_id_count.columns = ['month', 'id_count']\n",
    "\n",
    "# Plotting the line chart\n",
    "plt.figure(figsize=(8, 4))\n",
    "plt.plot(monthly_id_count['month'], monthly_id_count['id_count'], marker='o', linestyle='-', color='b')\n",
    "\n",
    "# Adding title and labels\n",
    "plt.title('Monthly Count of Loan Applications by Issue Date', fontsize=14)\n",
    "plt.xlabel('Month', fontsize=12)\n",
    "plt.ylabel('Count of Loan Applications', fontsize=12)\n",
    "\n",
    "# Rotate x-axis labels for better visibility\n",
    "plt.xticks(rotation=45)\n",
    "\n",
    "# Show grid\n",
    "plt.grid()\n",
    "\n",
    "# Display the line chart\n",
    "plt.tight_layout()\n",
    "plt.show()\n",
    "\n"
   ]
  },
  {
   "cell_type": "markdown",
   "id": "8e3f63f7",
   "metadata": {},
   "source": [
    "### Total Loan Amount By Month"
   ]
  },
  {
   "cell_type": "code",
   "execution_count": 26,
   "id": "6652784b",
   "metadata": {},
   "outputs": [
    {
     "name": "stdout",
     "output_type": "stream",
     "text": [
      "       month  loan_amount\n",
      "3    January         6500\n",
      "2   February        36550\n",
      "5        May        12000\n",
      "4       July      2232675\n",
      "0     August     14385275\n",
      "8  September     46295750\n",
      "7    October    119568600\n",
      "6   November    253214725\n",
      "1   December         5000\n"
     ]
    }
   ],
   "source": [
    "# Group by the 'month' column and sum the 'loan_amount'\n",
    "monthly_loan_amount = df.groupby('month')['loan_amount'].sum().reset_index()\n",
    "\n",
    "# Sort the months in chronological order\n",
    "month_order = ['January', 'February', 'March', 'April', 'May', 'June', \n",
    "               'July', 'August', 'September', 'October', 'November', 'December']\n",
    "monthly_loan_amount['month'] = pd.Categorical(monthly_loan_amount['month'], categories=month_order, ordered=True)\n",
    "\n",
    "# Sort the DataFrame by month\n",
    "monthly_loan_amount = monthly_loan_amount.sort_values('month')\n",
    "\n",
    "# Display the resulting DataFrame\n",
    "print(monthly_loan_amount)\n"
   ]
  },
  {
   "cell_type": "code",
   "execution_count": 27,
   "id": "0c670d74",
   "metadata": {},
   "outputs": [
    {
     "data": {
      "image/png": "[encoded data removed]",
      "text/plain": [
       "<Figure size 1000x500 with 1 Axes>"
      ]
     },
     "metadata": {},
     "output_type": "display_data"
    }
   ],
   "source": [
    "import matplotlib.ticker as ticker\n",
    "# Create the line chart for loan amounts by month\n",
    "plt.figure(figsize=(10, 5))\n",
    "plt.plot(monthly_loan_amount['month'], monthly_loan_amount['loan_amount'] / 1000, marker='o', linestyle='-', color='g')\n",
    "\n",
    "# Adding title and labels\n",
    "plt.title('Total Loan Amount by Month (in Thousands)', fontsize=14)\n",
    "plt.xlabel('Month', fontsize=12)\n",
    "plt.ylabel('Total Loan Amount (k)', fontsize=12)\n",
    "\n",
    "# Format the y-axis to show values in thousands (k) and disable scientific notation\n",
    "ax = plt.gca()  # Get current axis\n",
    "ax.yaxis.set_major_formatter(ticker.StrMethodFormatter('{x:,.0f}'))  # Format y-axis\n",
    "plt.yticks(ticks=plt.yticks()[0], labels=[f'{int(y)}k' for y in plt.yticks()[0]])\n",
    "\n",
    "# Rotate x-axis labels for better visibility\n",
    "plt.xticks(rotation=45)\n",
    "\n",
    "# Show grid\n",
    "plt.grid()\n",
    "\n",
    "# Display the line chart\n",
    "plt.tight_layout()\n",
    "plt.show()\n"
   ]
  },
  {
   "cell_type": "markdown",
   "id": "81696cfb",
   "metadata": {},
   "source": [
    "### Total Payment Received By Month"
   ]
  },
  {
   "cell_type": "code",
   "execution_count": 28,
   "id": "4357f8ba",
   "metadata": {},
   "outputs": [
    {
     "name": "stdout",
     "output_type": "stream",
     "text": [
      "       month  total_payment\n",
      "0     August       14065428\n",
      "1   December           5863\n",
      "2   February          23460\n",
      "3    January           7774\n",
      "4       July        2227604\n",
      "5        May           3522\n",
      "6   November      278244337\n",
      "7    October      128148384\n",
      "8  September       50344561\n"
     ]
    }
   ],
   "source": [
    "# Group by month and calculate the total payment\n",
    "total_payment_by_month = df.groupby('month')['total_payment'].sum().reset_index()\n",
    "\n",
    "# Display the aggregated data\n",
    "print(total_payment_by_month)\n"
   ]
  },
  {
   "cell_type": "markdown",
   "id": "eb0c0dab",
   "metadata": {},
   "source": [
    " "
   ]
  },
  {
   "cell_type": "markdown",
   "id": "92faca8d",
   "metadata": {},
   "source": [
    "## Regional Analysis"
   ]
  },
  {
   "cell_type": "markdown",
   "id": "6761ba75",
   "metadata": {},
   "source": [
    "### Top 5 State By Total Applications "
   ]
  },
  {
   "cell_type": "code",
   "execution_count": 29,
   "id": "1ed57cea",
   "metadata": {},
   "outputs": [
    {
     "data": {
      "text/plain": [
       "50"
      ]
     },
     "execution_count": 29,
     "metadata": {},
     "output_type": "execute_result"
    }
   ],
   "source": [
    "df['address_state'].nunique()"
   ]
  },
  {
   "cell_type": "code",
   "execution_count": 30,
   "id": "8dc05154",
   "metadata": {},
   "outputs": [
    {
     "data": {
      "text/plain": [
       "CA    6894\n",
       "NY    3701\n",
       "FL    2773\n",
       "TX    2664\n",
       "NJ    1822\n",
       "Name: address_state, dtype: int64"
      ]
     },
     "execution_count": 30,
     "metadata": {},
     "output_type": "execute_result"
    }
   ],
   "source": [
    "df['address_state'].value_counts().head(5)"
   ]
  },
  {
   "cell_type": "markdown",
   "id": "ff3e1847",
   "metadata": {},
   "source": [
    "### Top 5 state By Total Loan Amount "
   ]
  },
  {
   "cell_type": "code",
   "execution_count": 31,
   "id": "ecfff17b",
   "metadata": {},
   "outputs": [
    {
     "name": "stdout",
     "output_type": "stream",
     "text": [
      "   address_state  loan_amount\n",
      "4             CA     78484125\n",
      "33            NY     42077050\n",
      "42            TX     31236650\n",
      "9             FL     30046125\n",
      "30            NJ     21657475\n"
     ]
    }
   ],
   "source": [
    "# Group by state and calculate the total loan amount\n",
    "total_loan_by_state = df.groupby('address_state')['loan_amount'].sum().reset_index()\n",
    "\n",
    "# Get the top 5 states by total loan amount\n",
    "top5_loan_by_state = total_loan_by_state.nlargest(5, 'loan_amount')\n",
    "\n",
    "# Display the aggregated data\n",
    "print(top5_loan_by_state)\n",
    "\n"
   ]
  },
  {
   "cell_type": "markdown",
   "id": "824f225e",
   "metadata": {},
   "source": [
    "### Top 5 state By Total Payment Amount "
   ]
  },
  {
   "cell_type": "code",
   "execution_count": 32,
   "id": "eb6bd6ff",
   "metadata": {},
   "outputs": [
    {
     "name": "stdout",
     "output_type": "stream",
     "text": [
      "   address_state  total_payment\n",
      "4             CA       83901234\n",
      "33            NY       46108181\n",
      "42            TX       34392715\n",
      "9             FL       31601905\n",
      "30            NJ       23425159\n"
     ]
    }
   ],
   "source": [
    "# Group by state and calculate the total payment amount\n",
    "total_payment_received_by_state = df.groupby('address_state')['total_payment'].sum().reset_index()\n",
    "\n",
    "# Get the top 5 states by total payment amount\n",
    "top5_payment_by_state = total_payment_received_by_state.nlargest(5, 'total_payment')\n",
    "\n",
    "# Display the aggregated data\n",
    "print(top5_payment_by_state)\n",
    "\n"
   ]
  },
  {
   "cell_type": "markdown",
   "id": "13be9156",
   "metadata": {},
   "source": [
    " "
   ]
  },
  {
   "cell_type": "markdown",
   "id": "491ea861",
   "metadata": {},
   "source": [
    "## Loan Term Analysis"
   ]
  },
  {
   "cell_type": "markdown",
   "id": "878a50f5",
   "metadata": {},
   "source": [
    "### Total Applications By Loan Term"
   ]
  },
  {
   "cell_type": "code",
   "execution_count": 33,
   "id": "a4d8b085",
   "metadata": {},
   "outputs": [
    {
     "data": {
      "text/plain": [
       "2"
      ]
     },
     "execution_count": 33,
     "metadata": {},
     "output_type": "execute_result"
    }
   ],
   "source": [
    "df['term'].nunique()"
   ]
  },
  {
   "cell_type": "code",
   "execution_count": 34,
   "id": "1d767af7",
   "metadata": {},
   "outputs": [
    {
     "data": {
      "text/plain": [
       " 36 months    28237\n",
       " 60 months    10339\n",
       "Name: term, dtype: int64"
      ]
     },
     "execution_count": 34,
     "metadata": {},
     "output_type": "execute_result"
    }
   ],
   "source": [
    "df['term'].value_counts()"
   ]
  },
  {
   "cell_type": "markdown",
   "id": "589667c6",
   "metadata": {},
   "source": [
    "### Loan Amount By Loan Term"
   ]
  },
  {
   "cell_type": "code",
   "execution_count": 37,
   "id": "128302e9",
   "metadata": {},
   "outputs": [
    {
     "name": "stdout",
     "output_type": "stream",
     "text": [
      "         term  loan_amount\n",
      "0   36 months    273041225\n",
      "1   60 months    162715850\n"
     ]
    }
   ],
   "source": [
    "# Group by Loan term and calculate the total loan amount\n",
    "total_loan_by_term = df.groupby('term')['loan_amount'].sum().reset_index()\n",
    "\n",
    "# Display the aggregated data\n",
    "print(total_loan_by_term)"
   ]
  },
  {
   "cell_type": "markdown",
   "id": "c77b054d",
   "metadata": {},
   "source": [
    "### Total Payment By Loan Term"
   ]
  },
  {
   "cell_type": "code",
   "execution_count": 38,
   "id": "79da1859",
   "metadata": {},
   "outputs": [
    {
     "name": "stdout",
     "output_type": "stream",
     "text": [
      "         term  total_payment\n",
      "0   36 months      294709458\n",
      "1   60 months      178361475\n"
     ]
    }
   ],
   "source": [
    "# Group by Loan term and calculate the total loan amount\n",
    "total_pay_by_term = df.groupby('term')['total_payment'].sum().reset_index()\n",
    "\n",
    "# Display the aggregated data\n",
    "print(total_pay_by_term)"
   ]
  },
  {
   "cell_type": "markdown",
   "id": "e8676516",
   "metadata": {},
   "source": [
    " "
   ]
  },
  {
   "cell_type": "markdown",
   "id": "c1cb3586",
   "metadata": {},
   "source": [
    "## Employee Experience Analysis"
   ]
  },
  {
   "cell_type": "markdown",
   "id": "781b7b63",
   "metadata": {},
   "source": [
    "### Total Applications By Employee Experience"
   ]
  },
  {
   "cell_type": "code",
   "execution_count": 40,
   "id": "0979dee8",
   "metadata": {},
   "outputs": [
    {
     "data": {
      "text/plain": [
       "10+ years    8870\n",
       "< 1 year     4575\n",
       "2 years      4382\n",
       "3 years      4088\n",
       "4 years      3428\n",
       "5 years      3273\n",
       "1 year       3229\n",
       "6 years      2228\n",
       "7 years      1772\n",
       "8 years      1476\n",
       "9 years      1255\n",
       "Name: emp_length, dtype: int64"
      ]
     },
     "execution_count": 40,
     "metadata": {},
     "output_type": "execute_result"
    }
   ],
   "source": [
    "df['emp_length'].value_counts()"
   ]
  },
  {
   "cell_type": "markdown",
   "id": "19da2b50",
   "metadata": {},
   "source": [
    "### Loan Amount By Employee Experience"
   ]
  },
  {
   "cell_type": "code",
   "execution_count": 41,
   "id": "3f2c2fdb",
   "metadata": {},
   "outputs": [
    {
     "name": "stdout",
     "output_type": "stream",
     "text": [
      "   emp_length  loan_amount\n",
      "0      1 year     32883125\n",
      "1   10+ years    116115950\n",
      "2     2 years     44967975\n",
      "3     3 years     43937850\n",
      "4     4 years     37600375\n",
      "5     5 years     36973625\n",
      "6     6 years     25612650\n",
      "7     7 years     20811725\n",
      "8     8 years     17558950\n",
      "9     9 years     15084225\n",
      "10   < 1 year     44210625\n"
     ]
    }
   ],
   "source": [
    "total_loan_by_exp = df.groupby('emp_length')['loan_amount'].sum().reset_index()\n",
    "\n",
    "print(total_loan_by_exp)"
   ]
  },
  {
   "cell_type": "markdown",
   "id": "989f5c82",
   "metadata": {},
   "source": [
    "### Total Payment By Employee Experience"
   ]
  },
  {
   "cell_type": "code",
   "execution_count": 44,
   "id": "f4622c15",
   "metadata": {},
   "outputs": [
    {
     "name": "stdout",
     "output_type": "stream",
     "text": [
      "   emp_length  total_payment\n",
      "0      1 year       35498348\n",
      "1   10+ years      125871616\n",
      "2     2 years       49206961\n",
      "3     3 years       47551832\n",
      "4     4 years       40964850\n",
      "5     5 years       40397571\n",
      "6     6 years       27908658\n",
      "7     7 years       22584136\n",
      "8     8 years       19025777\n",
      "9     9 years       16516173\n",
      "10   < 1 year       47545011\n"
     ]
    }
   ],
   "source": [
    "total_pay_by_exp = df.groupby('emp_length')['total_payment'].sum().reset_index()\n",
    "\n",
    "print(total_pay_by_exp)"
   ]
  },
  {
   "cell_type": "markdown",
   "id": "f95100a9",
   "metadata": {},
   "source": [
    " "
   ]
  },
  {
   "cell_type": "markdown",
   "id": "f900c436",
   "metadata": {},
   "source": [
    "## Loan Purpose Analysis"
   ]
  },
  {
   "cell_type": "markdown",
   "id": "51bfba4c",
   "metadata": {},
   "source": [
    "### Total Applicants By Purpose"
   ]
  },
  {
   "cell_type": "code",
   "execution_count": 45,
   "id": "3b8c37e4",
   "metadata": {},
   "outputs": [
    {
     "data": {
      "text/plain": [
       "Debt consolidation    18214\n",
       "credit card            4998\n",
       "other                  3824\n",
       "home improvement       2876\n",
       "major purchase         2110\n",
       "small business         1776\n",
       "car                    1497\n",
       "wedding                 928\n",
       "medical                 667\n",
       "moving                  559\n",
       "house                   366\n",
       "vacation                352\n",
       "educational             315\n",
       "renewable_energy         94\n",
       "Name: purpose, dtype: int64"
      ]
     },
     "execution_count": 45,
     "metadata": {},
     "output_type": "execute_result"
    }
   ],
   "source": [
    "df['purpose'].value_counts()"
   ]
  },
  {
   "cell_type": "markdown",
   "id": "46b751f1",
   "metadata": {},
   "source": [
    "### Loan Amount By Purpose"
   ]
  },
  {
   "cell_type": "code",
   "execution_count": 46,
   "id": "a4c2248a",
   "metadata": {},
   "outputs": [
    {
     "name": "stdout",
     "output_type": "stream",
     "text": [
      "               purpose  loan_amount\n",
      "0   Debt consolidation    232459675\n",
      "1                  car     10223575\n",
      "2          credit card     58885175\n",
      "3          educational      2161650\n",
      "4     home improvement     33350775\n",
      "5                house      4824925\n",
      "6       major purchase     17251600\n",
      "7              medical      5533225\n",
      "8               moving      3748125\n",
      "9                other     31155750\n",
      "10    renewable_energy       845750\n",
      "11      small business     24123100\n",
      "12            vacation      1967950\n",
      "13             wedding      9225800\n"
     ]
    }
   ],
   "source": [
    "total_loan_by_purpose = df.groupby('purpose')['loan_amount'].sum().reset_index()\n",
    "\n",
    "print(total_loan_by_purpose)"
   ]
  },
  {
   "cell_type": "markdown",
   "id": "a29ba337",
   "metadata": {},
   "source": [
    "### Total Payment By Purpose"
   ]
  },
  {
   "cell_type": "code",
   "execution_count": 47,
   "id": "36950f7d",
   "metadata": {},
   "outputs": [
    {
     "name": "stdout",
     "output_type": "stream",
     "text": [
      "               purpose  total_payment\n",
      "0   Debt consolidation      253801871\n",
      "1                  car       11324914\n",
      "2          credit card       65214084\n",
      "3          educational        2248380\n",
      "4     home improvement       36380930\n",
      "5                house        5185538\n",
      "6       major purchase       18676927\n",
      "7              medical        5851372\n",
      "8               moving        3999899\n",
      "9                other       33289676\n",
      "10    renewable_energy         898931\n",
      "11      small business       23814817\n",
      "12            vacation        2116738\n",
      "13             wedding       10266856\n"
     ]
    }
   ],
   "source": [
    "total_pay_by_purpose = df.groupby('purpose')['total_payment'].sum().reset_index()\n",
    "\n",
    "print(total_pay_by_purpose)"
   ]
  },
  {
   "cell_type": "markdown",
   "id": "41ad2f8d",
   "metadata": {},
   "source": [
    " "
   ]
  },
  {
   "cell_type": "markdown",
   "id": "8e7623ee",
   "metadata": {},
   "source": [
    "## Home Ownership Analysis"
   ]
  },
  {
   "cell_type": "markdown",
   "id": "d08731c0",
   "metadata": {},
   "source": [
    "### Total Applicants By Home Ownership"
   ]
  },
  {
   "cell_type": "code",
   "execution_count": 48,
   "id": "9834b717",
   "metadata": {},
   "outputs": [
    {
     "data": {
      "text/plain": [
       "RENT        18439\n",
       "MORTGAGE    17198\n",
       "OWN          2838\n",
       "OTHER          98\n",
       "NONE            3\n",
       "Name: home_ownership, dtype: int64"
      ]
     },
     "execution_count": 48,
     "metadata": {},
     "output_type": "execute_result"
    }
   ],
   "source": [
    "df['home_ownership'].value_counts()"
   ]
  },
  {
   "cell_type": "markdown",
   "id": "dc2fac6f",
   "metadata": {},
   "source": [
    "### Total Loan By Home Ownership"
   ]
  },
  {
   "cell_type": "code",
   "execution_count": 49,
   "id": "0e37d61b",
   "metadata": {},
   "outputs": [
    {
     "data": {
      "text/plain": [
       "home_ownership\n",
       "MORTGAGE    219329150\n",
       "NONE            16800\n",
       "OTHER         1044975\n",
       "OWN          29597675\n",
       "RENT        185768475\n",
       "Name: loan_amount, dtype: int64"
      ]
     },
     "execution_count": 49,
     "metadata": {},
     "output_type": "execute_result"
    }
   ],
   "source": [
    "df.groupby('home_ownership')['loan_amount'].sum()"
   ]
  },
  {
   "cell_type": "code",
   "execution_count": 50,
   "id": "91e08967",
   "metadata": {},
   "outputs": [
    {
     "data": {
      "text/plain": [
       "home_ownership\n",
       "MORTGAGE    238474438\n",
       "NONE            19053\n",
       "OTHER         1025257\n",
       "OWN          31729129\n",
       "RENT        201823056\n",
       "Name: total_payment, dtype: int64"
      ]
     },
     "execution_count": 50,
     "metadata": {},
     "output_type": "execute_result"
    }
   ],
   "source": [
    "df.groupby('home_ownership')['total_payment'].sum()"
   ]
  },
  {
   "cell_type": "code",
   "execution_count": null,
   "id": "0dc4d76a",
   "metadata": {},
   "outputs": [],
   "source": []
  }
 ],
 "metadata": {
  "kernelspec": {
   "display_name": "Python 3 (ipykernel)",
   "language": "python",
   "name": "python3"
  },
  "language_info": {
   "codemirror_mode": {
    "name": "ipython",
    "version": 3
   },
   "file_extension": ".py",
   "mimetype": "text/x-python",
   "name": "python",
   "nbconvert_exporter": "python",
   "pygments_lexer": "ipython3",
   "version": "3.10.6"
  }
 },
 "nbformat": 4,
 "nbformat_minor": 5
}
